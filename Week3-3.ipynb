{
 "cells": [
  {
   "cell_type": "markdown",
   "metadata": {},
   "source": [
    "# Segmenting and Clustering Neighborhoods in Toronto-part 3"
   ]
  },
  {
   "cell_type": "markdown",
   "metadata": {},
   "source": [
    "Now to explore and cluster the neighborhoods in Toronto we need a handfull of all libraries. Please download if its not installed using pip or anything similar"
   ]
  },
  {
   "cell_type": "code",
   "execution_count": 15,
   "metadata": {},
   "outputs": [],
   "source": [
    "import numpy as np \n",
    "import pandas as pd\n",
    "import json\n",
    "from geopy.geocoders import Nominatim\n",
    "import requests\n",
    "from pandas.io.json import json_normalize \n",
    "import matplotlib.cm as cm\n",
    "import matplotlib.colors as colors\n",
    "from sklearn.cluster import KMeans\n",
    "import folium"
   ]
  },
  {
   "cell_type": "code",
   "execution_count": 16,
   "metadata": {},
   "outputs": [
    {
     "name": "stdout",
     "output_type": "stream",
     "text": [
      "Requirement already satisfied: tqdm in /Library/Frameworks/Python.framework/Versions/3.7/lib/python3.7/site-packages (4.33.0)\n",
      "\u001b[33mWARNING: You are using pip version 19.1.1, however version 19.2.2 is available.\n",
      "You should consider upgrading via the 'pip install --upgrade pip' command.\u001b[0m\n"
     ]
    }
   ],
   "source": [
    "!pip install tqdm\n",
    "from tqdm import tqdm"
   ]
  },
  {
   "cell_type": "markdown",
   "metadata": {},
   "source": [
    "Now we have our libraries imported let us store our data back"
   ]
  },
  {
   "cell_type": "code",
   "execution_count": 20,
   "metadata": {},
   "outputs": [
    {
     "data": {
      "text/html": [
       "<div>\n",
       "<style scoped>\n",
       "    .dataframe tbody tr th:only-of-type {\n",
       "        vertical-align: middle;\n",
       "    }\n",
       "\n",
       "    .dataframe tbody tr th {\n",
       "        vertical-align: top;\n",
       "    }\n",
       "\n",
       "    .dataframe thead th {\n",
       "        text-align: right;\n",
       "    }\n",
       "</style>\n",
       "<table border=\"1\" class=\"dataframe\">\n",
       "  <thead>\n",
       "    <tr style=\"text-align: right;\">\n",
       "      <th></th>\n",
       "      <th>PostalCode</th>\n",
       "      <th>Borough</th>\n",
       "      <th>Neighborhood</th>\n",
       "      <th>Latitude</th>\n",
       "      <th>Longitude</th>\n",
       "    </tr>\n",
       "  </thead>\n",
       "  <tbody>\n",
       "    <tr>\n",
       "      <th>0</th>\n",
       "      <td>M1B</td>\n",
       "      <td>Scarborough</td>\n",
       "      <td>Rouge,Malvern</td>\n",
       "      <td>43.806686</td>\n",
       "      <td>-79.194353</td>\n",
       "    </tr>\n",
       "    <tr>\n",
       "      <th>1</th>\n",
       "      <td>M1C</td>\n",
       "      <td>Scarborough</td>\n",
       "      <td>Highland Creek,Rouge Hill,Port Union</td>\n",
       "      <td>43.784535</td>\n",
       "      <td>-79.160497</td>\n",
       "    </tr>\n",
       "    <tr>\n",
       "      <th>2</th>\n",
       "      <td>M1E</td>\n",
       "      <td>Scarborough</td>\n",
       "      <td>Guildwood,Morningside,West Hill</td>\n",
       "      <td>43.763573</td>\n",
       "      <td>-79.188711</td>\n",
       "    </tr>\n",
       "    <tr>\n",
       "      <th>3</th>\n",
       "      <td>M1G</td>\n",
       "      <td>Scarborough</td>\n",
       "      <td>Woburn</td>\n",
       "      <td>43.770992</td>\n",
       "      <td>-79.216917</td>\n",
       "    </tr>\n",
       "    <tr>\n",
       "      <th>4</th>\n",
       "      <td>M1H</td>\n",
       "      <td>Scarborough</td>\n",
       "      <td>Cedarbrae</td>\n",
       "      <td>43.773136</td>\n",
       "      <td>-79.239476</td>\n",
       "    </tr>\n",
       "  </tbody>\n",
       "</table>\n",
       "</div>"
      ],
      "text/plain": [
       "  PostalCode      Borough                          Neighborhood   Latitude  \\\n",
       "0        M1B  Scarborough                         Rouge,Malvern  43.806686   \n",
       "1        M1C  Scarborough  Highland Creek,Rouge Hill,Port Union  43.784535   \n",
       "2        M1E  Scarborough       Guildwood,Morningside,West Hill  43.763573   \n",
       "3        M1G  Scarborough                                Woburn  43.770992   \n",
       "4        M1H  Scarborough                             Cedarbrae  43.773136   \n",
       "\n",
       "   Longitude  \n",
       "0 -79.194353  \n",
       "1 -79.160497  \n",
       "2 -79.188711  \n",
       "3 -79.216917  \n",
       "4 -79.239476  "
      ]
     },
     "execution_count": 20,
     "metadata": {},
     "output_type": "execute_result"
    }
   ],
   "source": [
    "df = pd.read_csv('toronto2.csv')\n",
    "df = df.drop('Unnamed: 0', 1)\n",
    "df.head()"
   ]
  },
  {
   "cell_type": "markdown",
   "metadata": {},
   "source": [
    "## Map of toronto with all toronto borough"
   ]
  },
  {
   "cell_type": "markdown",
   "metadata": {},
   "source": [
    "Now that we have our data, Let us generalize a bit and form the toronto borough system, I noticed that many toronto's in our data.So let us group it. "
   ]
  },
  {
   "cell_type": "code",
   "execution_count": 26,
   "metadata": {},
   "outputs": [
    {
     "data": {
      "text/html": [
       "<div>\n",
       "<style scoped>\n",
       "    .dataframe tbody tr th:only-of-type {\n",
       "        vertical-align: middle;\n",
       "    }\n",
       "\n",
       "    .dataframe tbody tr th {\n",
       "        vertical-align: top;\n",
       "    }\n",
       "\n",
       "    .dataframe thead th {\n",
       "        text-align: right;\n",
       "    }\n",
       "</style>\n",
       "<table border=\"1\" class=\"dataframe\">\n",
       "  <thead>\n",
       "    <tr style=\"text-align: right;\">\n",
       "      <th></th>\n",
       "      <th>Postcode</th>\n",
       "      <th>Borough</th>\n",
       "      <th>Neighborhood</th>\n",
       "      <th>Latitude</th>\n",
       "      <th>Longitude</th>\n",
       "    </tr>\n",
       "  </thead>\n",
       "  <tbody>\n",
       "    <tr>\n",
       "      <th>0</th>\n",
       "      <td>M4E</td>\n",
       "      <td>East Toronto</td>\n",
       "      <td>The Beaches</td>\n",
       "      <td>43.676357</td>\n",
       "      <td>-79.293031</td>\n",
       "    </tr>\n",
       "    <tr>\n",
       "      <th>1</th>\n",
       "      <td>M4K</td>\n",
       "      <td>East Toronto</td>\n",
       "      <td>The Danforth West,Riverdale</td>\n",
       "      <td>43.679557</td>\n",
       "      <td>-79.352188</td>\n",
       "    </tr>\n",
       "    <tr>\n",
       "      <th>2</th>\n",
       "      <td>M4L</td>\n",
       "      <td>East Toronto</td>\n",
       "      <td>The Beaches West,India Bazaar</td>\n",
       "      <td>43.668999</td>\n",
       "      <td>-79.315572</td>\n",
       "    </tr>\n",
       "    <tr>\n",
       "      <th>3</th>\n",
       "      <td>M4M</td>\n",
       "      <td>East Toronto</td>\n",
       "      <td>Studio District</td>\n",
       "      <td>43.659526</td>\n",
       "      <td>-79.340923</td>\n",
       "    </tr>\n",
       "    <tr>\n",
       "      <th>4</th>\n",
       "      <td>M4N</td>\n",
       "      <td>Central Toronto</td>\n",
       "      <td>Lawrence Park</td>\n",
       "      <td>43.728020</td>\n",
       "      <td>-79.388790</td>\n",
       "    </tr>\n",
       "  </tbody>\n",
       "</table>\n",
       "</div>"
      ],
      "text/plain": [
       "  Postcode          Borough                   Neighborhood   Latitude  \\\n",
       "0      M4E     East Toronto                    The Beaches  43.676357   \n",
       "1      M4K     East Toronto    The Danforth West,Riverdale  43.679557   \n",
       "2      M4L     East Toronto  The Beaches West,India Bazaar  43.668999   \n",
       "3      M4M     East Toronto                Studio District  43.659526   \n",
       "4      M4N  Central Toronto                  Lawrence Park  43.728020   \n",
       "\n",
       "   Longitude  \n",
       "0 -79.293031  \n",
       "1 -79.352188  \n",
       "2 -79.315572  \n",
       "3 -79.340923  \n",
       "4 -79.388790  "
      ]
     },
     "execution_count": 26,
     "metadata": {},
     "output_type": "execute_result"
    }
   ],
   "source": [
    "toronto = df[df['Borough'].str.contains(\"Toronto\")].reset_index(drop=True)\n",
    "toronto.columns = ['Postcode', 'Borough', 'Neighborhood', 'Latitude', 'Longitude']\n",
    "toronto.head()"
   ]
  },
  {
   "cell_type": "code",
   "execution_count": 27,
   "metadata": {},
   "outputs": [
    {
     "data": {
      "text/plain": [
       "(38, 5)"
      ]
     },
     "execution_count": 27,
     "metadata": {},
     "output_type": "execute_result"
    }
   ],
   "source": [
    "toronto.shape"
   ]
  },
  {
   "cell_type": "markdown",
   "metadata": {},
   "source": [
    "From the last exercise we the same code we can solve for the latitude and longtitude"
   ]
  },
  {
   "cell_type": "code",
   "execution_count": 29,
   "metadata": {},
   "outputs": [
    {
     "name": "stdout",
     "output_type": "stream",
     "text": [
      "Cordinates of toronto are 43.653963, -79.387207.\n"
     ]
    }
   ],
   "source": [
    "geo = Nominatim(user_agent=\"toronto_explorer\")\n",
    "address = 'Toronto'\n",
    "loc = geo.geocode(address)\n",
    "lat1 = loc.latitude\n",
    "long1 = loc.longitude\n",
    "print('Cordinates of toronto are {}, {}.'.format(lat1, long1))"
   ]
  },
  {
   "cell_type": "markdown",
   "metadata": {},
   "source": [
    "From the data visualization course, we have learnt folium. Folium is the best way to represent maps with python."
   ]
  },
  {
   "cell_type": "code",
   "execution_count": 31,
   "metadata": {},
   "outputs": [
    {
     "data": {
      "text/html": [
       "<div style=\"width:100%;\"><div style=\"position:relative;width:100%;height:0;padding-bottom:60%;\"><iframe src=\"data:text/html;charset=utf-8;base64,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\" style=\"position:absolute;width:100%;height:100%;left:0;top:0;border:none !important;\" allowfullscreen webkitallowfullscreen mozallowfullscreen></iframe></div></div>"
      ],
      "text/plain": [
       "<folium.folium.Map at 0x120fa92e8>"
      ]
     },
     "execution_count": 31,
     "metadata": {},
     "output_type": "execute_result"
    }
   ],
   "source": [
    "torontoMap = folium.Map(location=[lat1, long1], zoom_start=12)\n",
    "for lat2, long2, borough, neigh in zip(toronto['Latitude'],toronto['Longitude'], toronto['Borough'],toronto['Neighborhood']):\n",
    "    label = '{}, {}'.format(neigh, borough)\n",
    "    label = folium.Popup(label, parse_html=True)\n",
    "    folium.CircleMarker(\n",
    "        [lat2, long2],\n",
    "        radius=10,\n",
    "        popup=label,\n",
    "        color='green',\n",
    "        fill=True,\n",
    "        fill_color='#ffa500',\n",
    "        fill_opacity=1.0,\n",
    "        parse_html=False).add_to(torontoMap)  \n",
    "    \n",
    "torontoMap"
   ]
  },
  {
   "cell_type": "markdown",
   "metadata": {},
   "source": [
    "## Foursquare API implementation"
   ]
  },
  {
   "cell_type": "markdown",
   "metadata": {},
   "source": [
    "Enter all credentials of your foursquare account"
   ]
  },
  {
   "cell_type": "code",
   "execution_count": 32,
   "metadata": {},
   "outputs": [],
   "source": [
    "CLIENT_ID = 'NXBL1BLCZMEJASME1LF3N0X3HKLDRGNYRFQU1DO3C24BYXFP' # your Foursquare ID\n",
    "CLIENT_SECRET = 'WCABASCQ4KI1HBGOOAKXJKBRCWSVMB5IFYKPZY1IRB1FRK5A' # your Foursquare Secret\n",
    "VERSION = '20180605'"
   ]
  },
  {
   "cell_type": "markdown",
   "metadata": {},
   "source": [
    "Find a random neighbourhood. Here I have taken a random value as 12."
   ]
  },
  {
   "cell_type": "code",
   "execution_count": 44,
   "metadata": {},
   "outputs": [
    {
     "data": {
      "text/plain": [
       "'Church and Wellesley'"
      ]
     },
     "execution_count": 44,
     "metadata": {},
     "output_type": "execute_result"
    }
   ],
   "source": [
    "toronto.loc[12, 'Neighborhood']"
   ]
  },
  {
   "cell_type": "markdown",
   "metadata": {},
   "source": [
    "Then we can find the longtitude and latitude"
   ]
  },
  {
   "cell_type": "code",
   "execution_count": 45,
   "metadata": {},
   "outputs": [
    {
     "name": "stdout",
     "output_type": "stream",
     "text": [
      "Latitude and longitude values of Church and Wellesley are 43.6658599, -79.38315990000002.\n"
     ]
    }
   ],
   "source": [
    "neighblat = toronto.loc[12, 'Latitude'] \n",
    "neighlong = toronto.loc[12, 'Longitude'] \n",
    "neigh = toronto.loc[12, 'Neighborhood'] #\n",
    "print('Latitude and longitude values of {} are {}, {}.'.format(neigh, neighblat, neighlong))"
   ]
  },
  {
   "cell_type": "code",
   "execution_count": null,
   "metadata": {},
   "outputs": [],
   "source": []
  }
 ],
 "metadata": {
  "kernelspec": {
   "display_name": "Python 3",
   "language": "python",
   "name": "python3"
  },
  "language_info": {
   "codemirror_mode": {
    "name": "ipython",
    "version": 3
   },
   "file_extension": ".py",
   "mimetype": "text/x-python",
   "name": "python",
   "nbconvert_exporter": "python",
   "pygments_lexer": "ipython3",
   "version": "3.7.3"
  }
 },
 "nbformat": 4,
 "nbformat_minor": 2
}
